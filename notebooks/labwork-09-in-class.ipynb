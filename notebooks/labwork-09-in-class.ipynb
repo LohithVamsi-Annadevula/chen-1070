{
 "cells": [
  {
   "cell_type": "markdown",
   "metadata": {},
   "source": [
    "ChEn-1070: Introduction to Chemical Engineering Spring 2019 UMass Lowell; Profs. Manohar and de Almeida **08Apr2019**\n",
    "\n",
    "# Laboratory Work 09 16Apr2019\n"
   ]
  },
  {
   "cell_type": "markdown",
   "metadata": {},
   "source": [
    "### Name: `your name`"
   ]
  },
  {
   "cell_type": "markdown",
   "metadata": {},
   "source": [
    "### Rubric for each assignment: \n",
    "\n",
    "|         Context                    |  Points |\n",
    "| -----------------------     | ------- |\n",
    "| Precision of the answer     |   80%   |\n",
    "| Answer Markdown readability |   10%   |\n",
    "| Code readability            |   10%   |\n",
    "    "
   ]
  },
  {
   "cell_type": "markdown",
   "metadata": {},
   "source": [
    "### <span style=\"color:red\">Guidance:</span>\n",
    " +  <span style=\"color:red\"> \n",
    "    Save your work frequently to a file locally to your computer.\n",
    "    </span>\n",
    " +  <span style=\"color:red\">\n",
    "    During your work and before submitting the final version do: `Kernel` -> `Restart & Run All`, to verify your notebook runs correctly.\n",
    "    </span>\n",
    " +  <span style=\"color:red\">\n",
    "    Save your file again.\n",
    "    </span>"
   ]
  },
  {
   "cell_type": "markdown",
   "metadata": {},
   "source": [
    "## <span style=\"color:blue\">Assignment 1 (25 pts).</span>\n",
    "### <span style=\"color:blue\">Using `pandas`, `mendeleev`, and a `for` loop, make a data frame table and plot as follows: \n",
    " + Row labels: name of all noble gas elements,\n",
    " + Column labels: symbol, atomic number, atomic radius, mass density, electron affinity, isotopes mass number,\n",
    " + Use scientific notation where applicable with 5 significant figures,\n",
    " + Print the data frame,\n",
    " + Plot electron affinity (with units) versus symbol.\n",
    "</span>"
   ]
  },
  {
   "cell_type": "code",
   "execution_count": 21,
   "metadata": {
    "code_folding": [
     0
    ]
   },
   "outputs": [],
   "source": [
    "#'''Create a table using mendeleev data'''\n",
    "\n",
    "try:\n",
    "    import mendeleev  # creates the `name` mendeleev\n",
    "except ImportError:\n",
    "    print('Installing the \"mendeleev\" package...')\n",
    "    print('')\n",
    "    !pip install mendeleev\n",
    "    import mendeleev\n",
    "            \n",
    "import pandas as pd\n",
    "\n",
    "pd.options.display.float_format = '{:.4e}'.format\n",
    "\n",
    "# the intention here is to use this list as rows labels\n",
    "col_labels = ['symbol', 'atomic number', 'atomic radius', 'mass density', 'electron affinity', 'isotopes' ]\n",
    "\n",
    "# columwise data in the form of a dictionary\n",
    "data = dict() # initialize empty dict to hold data\n",
    "\n",
    "for label in col_labels:\n",
    "    \n",
    "    column_data = list()  # initialize empty list to hold the column data\n",
    "    \n",
    "    index = list()\n",
    "    \n",
    "    for i in range(1,119):  # loop over atomic numbers ...\n",
    "        \n",
    "        ele = mendeleev.element(i) # get chemical element with atomic number i\n",
    "    \n",
    "        if ele.series != 'Noble gases':\n",
    "            continue\n",
    "        \n",
    "        if label == 'symbol':\n",
    "            value = ele.symbol\n",
    "        elif label == 'atomic number':\n",
    "            value = ele.atomic_number\n",
    "        elif label == 'atomic radius':\n",
    "            value = ele.vdw_radius\n",
    "            if value is None: value = 0.0\n",
    "        elif label == 'mass density':\n",
    "            value = ele.density\n",
    "            if value is None: value = 0.0\n",
    "        elif label == 'electron affinity':\n",
    "            value = ele.electron_affinity\n",
    "            if value is None: value = 0.0\n",
    "        elif label == 'isotopes':\n",
    "            value = [iso.mass_number for iso in ele.isotopes]\n",
    "        else:\n",
    "            print(label)\n",
    "            assert False\n",
    "    \n",
    "        index.append(ele.name)\n",
    "        \n",
    "        column_data.append(value)\n",
    "        \n",
    "    #print(label)\n",
    "    #print(column_data)\n",
    "    \n",
    "    # store column data in the dictionary key: column label\n",
    "    data[label] = pd.Series(column_data, index) # value: pd.Series\n",
    "    \n",
    "\n",
    "df = pd.DataFrame(data) # pass the dictionary to the data frame"
   ]
  },
  {
   "cell_type": "code",
   "execution_count": 22,
   "metadata": {},
   "outputs": [
    {
     "data": {
      "text/html": [
       "<div>\n",
       "<style scoped>\n",
       "    .dataframe tbody tr th:only-of-type {\n",
       "        vertical-align: middle;\n",
       "    }\n",
       "\n",
       "    .dataframe tbody tr th {\n",
       "        vertical-align: top;\n",
       "    }\n",
       "\n",
       "    .dataframe thead th {\n",
       "        text-align: right;\n",
       "    }\n",
       "</style>\n",
       "<table border=\"1\" class=\"dataframe\">\n",
       "  <thead>\n",
       "    <tr style=\"text-align: right;\">\n",
       "      <th></th>\n",
       "      <th>symbol</th>\n",
       "      <th>atomic number</th>\n",
       "      <th>atomic radius</th>\n",
       "      <th>mass density</th>\n",
       "      <th>electron affinity</th>\n",
       "      <th>isotopes</th>\n",
       "    </tr>\n",
       "  </thead>\n",
       "  <tbody>\n",
       "    <tr>\n",
       "      <th>Helium</th>\n",
       "      <td>He</td>\n",
       "      <td>2</td>\n",
       "      <td>1.4000e+02</td>\n",
       "      <td>1.4700e-01</td>\n",
       "      <td>-1.9700e+01</td>\n",
       "      <td>[3, 4]</td>\n",
       "    </tr>\n",
       "    <tr>\n",
       "      <th>Neon</th>\n",
       "      <td>Ne</td>\n",
       "      <td>10</td>\n",
       "      <td>1.5400e+02</td>\n",
       "      <td>1.2040e+00</td>\n",
       "      <td>0.0000e+00</td>\n",
       "      <td>[20, 21, 22]</td>\n",
       "    </tr>\n",
       "    <tr>\n",
       "      <th>Argon</th>\n",
       "      <td>Ar</td>\n",
       "      <td>18</td>\n",
       "      <td>1.8800e+02</td>\n",
       "      <td>1.4000e+00</td>\n",
       "      <td>-1.1500e+01</td>\n",
       "      <td>[36, 38, 40, 39]</td>\n",
       "    </tr>\n",
       "    <tr>\n",
       "      <th>Krypton</th>\n",
       "      <td>Kr</td>\n",
       "      <td>36</td>\n",
       "      <td>2.0200e+02</td>\n",
       "      <td>2.1550e+00</td>\n",
       "      <td>0.0000e+00</td>\n",
       "      <td>[78, 80, 82, 83, 84, 86, 85]</td>\n",
       "    </tr>\n",
       "    <tr>\n",
       "      <th>Xenon</th>\n",
       "      <td>Xe</td>\n",
       "      <td>54</td>\n",
       "      <td>2.1600e+02</td>\n",
       "      <td>3.5200e+00</td>\n",
       "      <td>-5.6000e-02</td>\n",
       "      <td>[124, 126, 128, 129, 130, 131, 132, 134, 136]</td>\n",
       "    </tr>\n",
       "    <tr>\n",
       "      <th>Radon</th>\n",
       "      <td>Rn</td>\n",
       "      <td>86</td>\n",
       "      <td>2.2000e+02</td>\n",
       "      <td>4.4000e+00</td>\n",
       "      <td>0.0000e+00</td>\n",
       "      <td>[210, 211, 222]</td>\n",
       "    </tr>\n",
       "    <tr>\n",
       "      <th>Oganesson</th>\n",
       "      <td>Og</td>\n",
       "      <td>118</td>\n",
       "      <td>0.0000e+00</td>\n",
       "      <td>0.0000e+00</td>\n",
       "      <td>5.6000e-02</td>\n",
       "      <td>[294]</td>\n",
       "    </tr>\n",
       "  </tbody>\n",
       "</table>\n",
       "</div>"
      ],
      "text/plain": [
       "          symbol  atomic number  atomic radius  mass density  \\\n",
       "Helium        He              2     1.4000e+02    1.4700e-01   \n",
       "Neon          Ne             10     1.5400e+02    1.2040e+00   \n",
       "Argon         Ar             18     1.8800e+02    1.4000e+00   \n",
       "Krypton       Kr             36     2.0200e+02    2.1550e+00   \n",
       "Xenon         Xe             54     2.1600e+02    3.5200e+00   \n",
       "Radon         Rn             86     2.2000e+02    4.4000e+00   \n",
       "Oganesson     Og            118     0.0000e+00    0.0000e+00   \n",
       "\n",
       "           electron affinity                                       isotopes  \n",
       "Helium           -1.9700e+01                                         [3, 4]  \n",
       "Neon              0.0000e+00                                   [20, 21, 22]  \n",
       "Argon            -1.1500e+01                               [36, 38, 40, 39]  \n",
       "Krypton           0.0000e+00                   [78, 80, 82, 83, 84, 86, 85]  \n",
       "Xenon            -5.6000e-02  [124, 126, 128, 129, 130, 131, 132, 134, 136]  \n",
       "Radon             0.0000e+00                                [210, 211, 222]  \n",
       "Oganesson         5.6000e-02                                          [294]  "
      ]
     },
     "execution_count": 22,
     "metadata": {},
     "output_type": "execute_result"
    }
   ],
   "source": [
    "df"
   ]
  },
  {
   "cell_type": "code",
   "execution_count": 23,
   "metadata": {
    "code_folding": [
     0
    ]
   },
   "outputs": [
    {
     "data": {
      "image/png": "[encoded data removed]",
      "text/plain": [
       "<Figure size 864x432 with 1 Axes>"
      ]
     },
     "metadata": {
      "needs_background": "light"
     },
     "output_type": "display_data"
    }
   ],
   "source": [
    "#'''Plot Electron Affinity versus Element Symbol'''\n",
    "\n",
    "import matplotlib.pyplot as plt\n",
    "\n",
    "# more advanced features are accessed with different functions in Matplotlib\n",
    "fig, ax = plt.subplots(figsize=(12,6))\n",
    "\n",
    "x_data = df2['atomic number']\n",
    "y_data = df2['electron affinity']\n",
    "\n",
    "# note the bar plot function with the same xy data as before\n",
    "ax.bar(x_data, y_data, color='green', width=8)\n",
    "\n",
    "# here we rename the xtick labels with the element symbols\n",
    "plt.xticks( x_data, df2['symbol'], rotation=0,fontsize=14)\n",
    "\n",
    "ax.set_ylabel('Elec. Affinity [eV]',fontsize=16)\n",
    "ax.set_xlabel('Element Symbol',fontsize=16)\n",
    "ax.xaxis.grid(True,linestyle='-',which='major',color='lightgrey',alpha=0.9)\n",
    "plt.title('Elemens in the Noble Gases Group ',fontsize=20)\n",
    "plt.show()"
   ]
  },
  {
   "cell_type": "markdown",
   "metadata": {},
   "source": [
    "## <span style=\"color:blue\">Assignment 2 (25 pts).</span>\n",
    "### <span style=\"color:blue\">Using `pandas`, `mendeleev`, `scipy.constants`, and a `for` loop, make a data frame table and plot as follows:\n",
    "  + Row labels: name of all alkali metal elements,\n",
    "  + Column labels: element symbol, atomic number, boiling point (Rankine), evaporation heat (kcal/g),\n",
    "  + Use scientific notation where applicable with 6 significant figures,\n",
    "  + Print the data frame,\n",
    "  + Using `pandas` statistical functions, calculate the mean and standard deviation of the last two columns,\n",
    "  + Plot boiling point (with units) versus element name."
   ]
  },
  {
   "cell_type": "markdown",
   "metadata": {},
   "source": [
    "## <span style=\"color:blue\">Assignment 3 (25 pts).</span>\n",
    "### <span style=\"color:blue\">Using `pandas`, `mendeleev`, and a `for` loop, make a data frame table and plot as follows:\n",
    "  + Row labels: name of all lanthanide elements,\n",
    "  + Column labels: symbol, atomic number, atomic radius, mass density, electron affinity, isotopes mass number,\n",
    "  + Use scientific notation where applicable with 6 significant figures,\n",
    "  + Print the data frame,\n",
    "  + Using `pandas` statistical functions, calculate the mean and standard deviation of the penultimate column.\n",
    "  + Plot atomic radius (with units) versus element symbol."
   ]
  },
  {
   "cell_type": "markdown",
   "metadata": {},
   "source": [
    "## <span style=\"color:blue\">Assignment 4 (25 pts).</span>\n",
    "### <span style=\"color:blue\">Using `pandas`, `mendeleev`, and a `for` loop, make a data frame table and plot as follows:\n",
    "  + Row labels: name of all transition metals elements,\n",
    "  + Column labels: symbol, atomic number, atomic radius, mass density, electron affinity, isotopes mass number,\n",
    "  + Use scientific notation where applicable with 6 significant figures,\n",
    "  + Print the data frame,\n",
    "  + Using `pandas` statistical functions, calculate the mean and standard deviation of the penultimate column,\n",
    "  + Plot mass density (with units) versus element symbol."
   ]
  },
  {
   "cell_type": "code",
   "execution_count": null,
   "metadata": {},
   "outputs": [],
   "source": []
  }
 ],
 "metadata": {
  "kernelspec": {
   "display_name": "Python 3",
   "language": "python",
   "name": "python3"
  },
  "language_info": {
   "codemirror_mode": {
    "name": "ipython",
    "version": 3
   },
   "file_extension": ".py",
   "mimetype": "text/x-python",
   "name": "python",
   "nbconvert_exporter": "python",
   "pygments_lexer": "ipython3",
   "version": "3.7.1"
  },
  "latex_envs": {
   "LaTeX_envs_menu_present": true,
   "autoclose": false,
   "autocomplete": true,
   "bibliofile": "biblio.bib",
   "cite_by": "apalike",
   "current_citInitial": 1,
   "eqLabelWithNumbers": true,
   "eqNumInitial": 1,
   "hotkeys": {
    "equation": "Ctrl-E",
    "itemize": "Ctrl-I"
   },
   "labels_anchors": false,
   "latex_user_defs": false,
   "report_style_numbering": false,
   "user_envs_cfg": false
  }
 },
 "nbformat": 4,
 "nbformat_minor": 2
}

{
  "metadata": {
    "kernelspec": {
      "display_name": "Python 3",
      "language": "python",
      "name": "python3"
    },
    "language_info": {
      "mimetype": "text/x-python",
      "nbconvert_exporter": "python",
      "name": "python",
      "pygments_lexer": "ipython3",
      "version": "3.5.4",
      "file_extension": ".py",
      "codemirror_mode": {
        "version": 3,
        "name": "ipython"
      }
    },
    "latex_envs": {
      "LaTeX_envs_menu_present": true,
      "autoclose": false,
      "autocomplete": true,
      "bibliofile": "biblio.bib",
      "cite_by": "apalike",
      "current_citInitial": 1,
      "eqLabelWithNumbers": true,
      "eqNumInitial": 1,
      "hotkeys": {
        "equation": "Ctrl-E",
        "itemize": "Ctrl-I"
      },
      "labels_anchors": false,
      "latex_user_defs": false,
      "report_style_numbering": false,
      "user_envs_cfg": false
    }
  },
  "nbformat_minor": 2,
  "nbformat": 4,
  "cells": [
    {
      "cell_type": "markdown",
      "source": "ChEn-1070: Introduction to Chemical Engineering Spring 2019 UMass Lowell; Profs. Manohar and de Almeida **19Jan19**\n\n# Laboratory Work 01 22Jan2019",
      "metadata": {}
    },
    {
      "cell_type": "markdown",
      "source": "### Name: `your name`",
      "metadata": {}
    },
    {
      "cell_type": "markdown",
      "source": "### Rubric for each assignment: \n\n|                             |  Points |\n| -----------------------     | ------- |\n| Precision of the answer     |   80%   |\n| Answer Markdown readability |   10%   |\n| Code readability            |   10%   |\n    ",
      "metadata": {}
    },
    {
      "cell_type": "markdown",
      "source": "### <span style=\"color:red\">Guidance:</span>\n +  <span style=\"color:red\"> \n    Save your work frequently to a file locally to your computer.\n    </span>\n +  <span style=\"color:red\">\n    During your work and before submitting the final version do: `Kernel` -> `Restart & Run All`, to verify your notebook runs correctly.\n    </span>\n +  <span style=\"color:red\">\n    Save your file again.\n    </span>",
      "metadata": {}
    },
    {
      "cell_type": "markdown",
      "source": "### <span style=\"color:blue\">Objectives:</span>\n +  <span style=\"color:blue\"> \n    Practice with the elements of Jupyter notebooks to create a report.\n    </span>\n +  <span style=\"color:blue\">\n    Render markdown cells.\n    </span>\n +  <span style=\"color:blue\">\n    Explore document building elements.\n    </span>",
      "metadata": {}
    },
    {
      "cell_type": "markdown",
      "source": "## <span style=\"color:blue\">Assignment 1 (100/7 pts).</span>\n### <span style=\"color:blue\">Describe with your own words what a Jupyter Notebook is and how would you learn more about it.</span>",
      "metadata": {}
    },
    {
      "cell_type": "markdown",
      "source": "",
      "metadata": {}
    },
    {
      "cell_type": "markdown",
      "source": "## <span style=\"color:blue\">Assignment 2 (100/7 pts).</span>\n### <span style=\"color:blue\">Describe the typical workflow of a Jupyter Notebook.</span>",
      "metadata": {}
    },
    {
      "cell_type": "markdown",
      "source": "",
      "metadata": {}
    },
    {
      "cell_type": "markdown",
      "source": "## <span style=\"color:blue\">Assignment 3 (100/7 pts).</span>\n### <span style=\"color:blue\">Generate a bullet list in a markdown cell.</span>",
      "metadata": {}
    },
    {
      "cell_type": "markdown",
      "source": "",
      "metadata": {}
    },
    {
      "cell_type": "markdown",
      "source": "## <span style=\"color:blue\">Assignment 4 (100/7 pts).</span>\n### <span style=\"color:blue\">Generate a numbered list in a markdown cell.</span>",
      "metadata": {}
    },
    {
      "cell_type": "code",
      "source": "",
      "metadata": {},
      "execution_count": null,
      "outputs": []
    },
    {
      "cell_type": "markdown",
      "source": "## <span style=\"color:blue\">Assignment 5 (100/7 pts).</span>\n### <span style=\"color:blue\">Generate 3 levels of headings in a markdown cell.</span>",
      "metadata": {}
    },
    {
      "cell_type": "code",
      "source": "",
      "metadata": {},
      "execution_count": null,
      "outputs": []
    },
    {
      "cell_type": "markdown",
      "source": "## <span style=\"color:blue\">Assignment 6 (100/7 pts).</span>\n### <span style=\"color:blue\">Create an indented block of text in a markdown cell.</span>",
      "metadata": {}
    },
    {
      "cell_type": "code",
      "source": "",
      "metadata": {},
      "execution_count": null,
      "outputs": []
    },
    {
      "cell_type": "markdown",
      "source": "## <span style=\"color:blue\">Assignment 7 (100/7 pts).</span>\n### <span style=\"color:blue\">Create a table.</span>",
      "metadata": {}
    },
    {
      "cell_type": "code",
      "source": "",
      "metadata": {},
      "execution_count": null,
      "outputs": []
    }
  ]
}
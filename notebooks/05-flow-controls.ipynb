{
 "cells": [
  {
   "cell_type": "markdown",
   "metadata": {},
   "source": [
    "ChEn-1070: Introduction to Chemical Engineering Spring 2019 UMass Lowell; Profs. Manohar and de Almeida **08Apr2019**\n",
    "\n",
    "# 05. Basic Flow Controls in Python\n",
    "$  \n",
    "  \\newcommand{\\Amtrx}{\\boldsymbol{\\mathsf{A}}}\n",
    "  \\newcommand{\\Bmtrx}{\\boldsymbol{\\mathsf{B}}}\n",
    "  \\newcommand{\\Mmtrx}{\\boldsymbol{\\mathsf{M}}}\n",
    "  \\newcommand{\\Imtrx}{\\boldsymbol{\\mathsf{I}}}\n",
    "  \\newcommand{\\Pmtrx}{\\boldsymbol{\\mathsf{P}}}\n",
    "  \\newcommand{\\Lmtrx}{\\boldsymbol{\\mathsf{L}}}\n",
    "  \\newcommand{\\Umtrx}{\\boldsymbol{\\mathsf{U}}}\n",
    "  \\newcommand{\\xvec}{\\boldsymbol{\\mathsf{x}}}\n",
    "  \\newcommand{\\avec}{\\boldsymbol{\\mathsf{a}}}\n",
    "  \\newcommand{\\bvec}{\\boldsymbol{\\mathsf{b}}}\n",
    "  \\newcommand{\\cvec}{\\boldsymbol{\\mathsf{c}}}\n",
    "  \\newcommand{\\rvec}{\\boldsymbol{\\mathsf{r}}}\n",
    "  \\newcommand{\\norm}[1]{\\bigl\\lVert{#1}\\bigr\\rVert}\n",
    "  \\DeclareMathOperator{\\rank}{rank}\n",
    "$"
   ]
  },
  {
   "cell_type": "markdown",
   "metadata": {},
   "source": [
    "---\n",
    "## Table of Contents\n",
    "* [Conditionals](#conditionals)\n",
    " + [If](#if)\n",
    "* [Loops](#loops)\n",
    " + [For](#for)\n",
    "---"
   ]
  },
  {
   "cell_type": "markdown",
   "metadata": {},
   "source": [
    "## Conditionals<a id=\"conditionals\"></a>\n",
    "Constructs that allow branching of operations. The most importants are:\n",
    " 1. `if` statement"
   ]
  },
  {
   "cell_type": "markdown",
   "metadata": {},
   "source": [
    "### `If` statement<a id='if'></a>\n",
    "The general format is (*indentation observed*):\n",
    "```python\n",
    "if test1:        # if test1 is a test statement\n",
    "    statements1  # associated block\n",
    "elif test2:      # optional elifs\n",
    "    statements2\n",
    "elif test3:      # more optional elifs etc.\n",
    "    statements3\n",
    "else:            # optional final else\n",
    "    statements4\n",
    "```\n",
    "\n",
    "Test statements use logical operarors such as: \n",
    " + `==` tests for truth\n",
    " + `!=` tests for non-truth\n",
    " + `is` type\n",
    " + `in` inclusion\n",
    " + `or` or concatenation of test statements\n",
    " + `and` and concatenation of test statements"
   ]
  },
  {
   "cell_type": "code",
   "execution_count": null,
   "metadata": {},
   "outputs": [],
   "source": [
    "'''Logical operators'''\n",
    "\n",
    "a = [1,2,3]\n",
    "\n",
    "print(a == a)\n",
    "print(a != a )\n",
    "print(type(a) is list)\n",
    "print(type(a) is list())\n",
    "print(3 in a)\n",
    "print(a is None)\n",
    "print(a == a and type(a) is int)\n",
    "print(a[1] == a or type(a) is list)"
   ]
  },
  {
   "cell_type": "markdown",
   "metadata": {},
   "source": [
    "### Example\n",
    "If-else example:\n",
    "```python\n",
    "    if lithium is None:      # test if element has type None  \n",
    "        try:\n",
    "            import mendeleev  # creates the `name` mendeleev\n",
    "        except ImportError:\n",
    "            print('Installing the \"mendeleev\" package...')\n",
    "            print('')\n",
    "            !pip install mendeleev\n",
    "            import mendeleev\n",
    "    else:                 # final test\n",
    "        print(lithium) # print all info on lithium\n",
    "```"
   ]
  },
  {
   "cell_type": "code",
   "execution_count": null,
   "metadata": {},
   "outputs": [],
   "source": [
    "'''Single if statement'''\n",
    "\n",
    "lithium = None # initialize with any type\n",
    "\n",
    "if lithium is None:      # test if element has type None  \n",
    "    try:\n",
    "        import mendeleev  # creates the `name` mendeleev\n",
    "    except ImportError:\n",
    "        print('Installing the \"mendeleev\" package...')\n",
    "        print('')\n",
    "        !pip install mendeleev\n",
    "        import mendeleev\n",
    "        \n",
    "    lithium = mendeleev.element('Li')\n",
    "    print('lithium data: ',[lithium])\n",
    "    \n",
    "else:\n",
    "    print('lithium variable: ',lithium) # print everything in lithium"
   ]
  },
  {
   "cell_type": "code",
   "execution_count": null,
   "metadata": {},
   "outputs": [],
   "source": [
    "'''Testing example'''\n",
    "\n",
    "test = 5 # change this to 1, 2 or 3\n",
    "\n",
    "# test setup (uses multiway branching)\n",
    "if test == 1:\n",
    "    print('made to 1')\n",
    "elif test == 2:\n",
    "    print('made to 2')\n",
    "elif test == 3:\n",
    "    print('made to 3')\n",
    "else:\n",
    "    print('Error: test must be 1, 2, or 3.')"
   ]
  },
  {
   "cell_type": "markdown",
   "metadata": {},
   "source": [
    "## Loops<a id=\"loops\"></a>\n",
    "Contructs that allow repetitive actions on data. There are two basic types: \n",
    " 1. `for` loops"
   ]
  },
  {
   "cell_type": "markdown",
   "metadata": {},
   "source": [
    "### `For` loops<a id='for'></a>\n",
    "The general format is (*indentation observed*):\n",
    "```python\n",
    "for target in object: # assign object items to target\n",
    "    statements            # repeated loop body: (possibly) use target\n",
    "    if test: \n",
    "        break             # exit loop now; skip else\n",
    "    if test: \n",
    "        continue          # go to top of the loop now\n",
    "    else:                 # optional else part\n",
    "        statements        # if did not hit a `break`\n",
    "#end for target in object:\n",
    "```"
   ]
  },
  {
   "cell_type": "markdown",
   "metadata": {},
   "source": [
    "### Example\n",
    "```python\n",
    "for i in range(10): # assign i to objects in range(mtrx.shape[0])\n",
    "    j = 2*i         # loop over this statement with varying i\n",
    "    print(j)        # print j\n",
    "#end for i in range(10):\n",
    "```"
   ]
  },
  {
   "cell_type": "code",
   "execution_count": null,
   "metadata": {},
   "outputs": [],
   "source": [
    "'''Simple for loop'''\n",
    "\n",
    "for i in range(10): # assign i to objects in range(10)\n",
    "    j = 2*i         # loop over this statement with varying i\n",
    "    print(j)        # print j"
   ]
  },
  {
   "cell_type": "code",
   "execution_count": null,
   "metadata": {},
   "outputs": [],
   "source": [
    "'''Simple for loop'''\n",
    "\n",
    "for i in range(0,18,2): # assign i to objects in range(10,2)\n",
    "    print(i)            # print i"
   ]
  },
  {
   "cell_type": "code",
   "execution_count": null,
   "metadata": {},
   "outputs": [],
   "source": [
    "'''Using a dictionary to create a table'''\n",
    "\n",
    "import pandas as pd\n",
    "\n",
    "hydrogen  = {'symbol':'H',  'atomic number':1, 'group':1,  'period':1, 'isotopes':[1,2,3]}\n",
    "helium    = {'symbol':'He', 'atomic number':2, 'group':18, 'period':1, 'isotopes':[3,4]}\n",
    "lithium   = {'symbol':'Li', 'atomic number':3, 'group':1,  'period':2, 'isotopes':[6,7]}\n",
    "beryllium = {'symbol':'Be', 'atomic number':4, 'group':2,  'period':2, 'isotopes':[9,10]}\n",
    "boron     = {'symbol':'B',  'atomic number':5, 'group':13, 'period':2, 'isotopes':[10,11]}\n",
    "\n",
    "data = {'hydrogen':hydrogen,'helium':helium,'lithium':lithium,'beryllium':beryllium,'boron':boron}\n",
    "\n",
    "df1 = pd.DataFrame(data) # pass the dictonary to the data frame"
   ]
  },
  {
   "cell_type": "code",
   "execution_count": null,
   "metadata": {},
   "outputs": [],
   "source": [
    "df1"
   ]
  },
  {
   "cell_type": "code",
   "execution_count": null,
   "metadata": {},
   "outputs": [],
   "source": [
    "'''Create a similar table using mendeleev data'''\n",
    "\n",
    "index = ['atomic number', 'group', 'isotopes', 'period', 'symbol' ]\n",
    "\n",
    "# columwise data in the form of a dictionary\n",
    "data = dict() # initialize empty dict to hold data\n",
    "\n",
    "for i in range(5):  # loop over indices 0 to ...\n",
    "    ele = mendeleev.element(i+1) # get chemical element with atomic number i+1\n",
    "    \n",
    "    column_data = list()  # initialize empty list to hold the column data\n",
    "    \n",
    "    column_data.append(ele.atomic_number)  # get and store atomic number\n",
    "    column_data.append(ele.group_id)       # get and store group id\n",
    "    column_data.append([iso.mass_number for iso in ele.isotopes]) # get and store isotope mass numbers\n",
    "    column_data.append(ele.period)         # get and store element period\n",
    "    column_data.append(ele.symbol)         # get and store element symbol\n",
    "    \n",
    "    # store column data in the dictionary key: column label\n",
    "    data[ele.name] = pd.Series(column_data, index) # value: pd.Series\n",
    "    \n",
    "#end for i in range(5):\n",
    "\n",
    "df2 = pd.DataFrame(data) # pass the dictionary to the data frame"
   ]
  },
  {
   "cell_type": "code",
   "execution_count": null,
   "metadata": {},
   "outputs": [],
   "source": [
    "df2"
   ]
  }
 ],
 "metadata": {
  "kernelspec": {
   "display_name": "Python 3",
   "language": "python",
   "name": "python3"
  },
  "language_info": {
   "codemirror_mode": {
    "name": "ipython",
    "version": 3
   },
   "file_extension": ".py",
   "mimetype": "text/x-python",
   "name": "python",
   "nbconvert_exporter": "python",
   "pygments_lexer": "ipython3",
   "version": "3.7.1"
  },
  "latex_envs": {
   "LaTeX_envs_menu_present": true,
   "autoclose": false,
   "autocomplete": true,
   "bibliofile": "biblio.bib",
   "cite_by": "apalike",
   "current_citInitial": 1,
   "eqLabelWithNumbers": true,
   "eqNumInitial": 1,
   "hotkeys": {
    "equation": "Ctrl-E",
    "itemize": "Ctrl-I"
   },
   "labels_anchors": false,
   "latex_user_defs": false,
   "report_style_numbering": false,
   "user_envs_cfg": false
  }
 },
 "nbformat": 4,
 "nbformat_minor": 2
}

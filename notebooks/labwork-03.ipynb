{
 "cells": [
  {
   "cell_type": "markdown",
   "metadata": {},
   "source": [
    "ChEn-1070: Introduction to Chemical Engineering Spring 2019 UMass Lowell; Profs. Manohar and de Almeida **12Feb2019**\n",
    "\n",
    "# Laboratory Work 03 12Feb2019\n"
   ]
  },
  {
   "cell_type": "markdown",
   "metadata": {},
   "source": [
    "### Name: `your name`"
   ]
  },
  {
   "cell_type": "markdown",
   "metadata": {},
   "source": [
    "### Rubric for each assignment: \n",
    "\n",
    "|                             |  Points |\n",
    "| -----------------------     | ------- |\n",
    "| Precision of the answer     |   80%   |\n",
    "| Answer Markdown readability |   10%   |\n",
    "| Code readability            |   10%   |\n",
    "    "
   ]
  },
  {
   "cell_type": "markdown",
   "metadata": {},
   "source": [
    "### <span style=\"color:red\">Guidance:</span>\n",
    " +  <span style=\"color:red\"> \n",
    "    Save your work frequently to a file locally to your computer.\n",
    "    </span>\n",
    " +  <span style=\"color:red\">\n",
    "    During your work and before submitting the final version do: `Kernel` -> `Restart & Run All`, to verify your notebook runs correctly.\n",
    "    </span>\n",
    " +  <span style=\"color:red\">\n",
    "    Save your file again.\n",
    "    </span>"
   ]
  },
  {
   "cell_type": "markdown",
   "metadata": {},
   "source": [
    "## <span style=\"color:blue\">Assignment 1 (20 pts).</span>\n",
    "### <span style=\"color:blue\">Create a Python code cell with a `string` variable and print its type.</span>"
   ]
  },
  {
   "cell_type": "code",
   "execution_count": null,
   "metadata": {},
   "outputs": [],
   "source": []
  },
  {
   "cell_type": "markdown",
   "metadata": {},
   "source": [
    "## <span style=\"color:blue\">Assignment 2 (20 pts).</span>\n",
    "### <span style=\"color:blue\">Create a Python code cell with a `string` variable 10-characters long or more and print its type and its length.</span>"
   ]
  },
  {
   "cell_type": "code",
   "execution_count": null,
   "metadata": {},
   "outputs": [],
   "source": []
  },
  {
   "cell_type": "markdown",
   "metadata": {},
   "source": [
    "## <span style=\"color:blue\">Assignment 3 (20 pts).</span>\n",
    "### <span style=\"color:blue\">Create a Python code to compute the area of a right triangle with sides $a = 1.23$ and $b = 2.45$, and its hypotenuse. Print the results. On a Markdown cell, explain your results mathematically.</span>"
   ]
  },
  {
   "cell_type": "code",
   "execution_count": 1,
   "metadata": {},
   "outputs": [],
   "source": [
    "'''Code here'''\n",
    "import math\n",
    "# use math.sqrt(x) for the square root funtion"
   ]
  },
  {
   "cell_type": "markdown",
   "metadata": {},
   "source": [
    "**Explain here:**"
   ]
  },
  {
   "cell_type": "markdown",
   "metadata": {},
   "source": [
    "## <span style=\"color:blue\">Assignment 4 (20 pts).</span>\n",
    "### <span style=\"color:blue\">Create a Python code to compute the volume of a right cylinder with radius $r = 2.45$ and height $h = 5.13$. Print the results. On a Markdown cell, explain your results mathematically.</span>"
   ]
  },
  {
   "cell_type": "code",
   "execution_count": 1,
   "metadata": {},
   "outputs": [],
   "source": [
    "'''Code here'''\n",
    "import math\n",
    "# use math.pi for the value of pi"
   ]
  },
  {
   "cell_type": "markdown",
   "metadata": {},
   "source": [
    "**Explain here:**"
   ]
  },
  {
   "cell_type": "markdown",
   "metadata": {},
   "source": [
    "## <span style=\"color:blue\">Assignment 5 (20 pts).</span>\n",
    "### <span style=\"color:blue\">Computer the area under the line of the plot below; show the plot. On a Markdown cell, explain your results mathematically.</span>"
   ]
  },
  {
   "cell_type": "code",
   "execution_count": null,
   "metadata": {},
   "outputs": [],
   "source": [
    "import matplotlib.pyplot as plt\n",
    "plt.plot(range(10),range(5,15))\n",
    "plt.ylabel('y')\n",
    "plt.xlabel('x')\n",
    "plt.show()"
   ]
  },
  {
   "cell_type": "markdown",
   "metadata": {},
   "source": [
    "**Explain here:**"
   ]
  }
 ],
 "metadata": {
  "kernelspec": {
   "display_name": "Python 3",
   "language": "python",
   "name": "python3"
  },
  "language_info": {
   "codemirror_mode": {
    "name": "ipython",
    "version": 3
   },
   "file_extension": ".py",
   "mimetype": "text/x-python",
   "name": "python",
   "nbconvert_exporter": "python",
   "pygments_lexer": "ipython3",
   "version": "3.6.5"
  },
  "latex_envs": {
   "LaTeX_envs_menu_present": true,
   "autoclose": false,
   "autocomplete": true,
   "bibliofile": "biblio.bib",
   "cite_by": "apalike",
   "current_citInitial": 1,
   "eqLabelWithNumbers": true,
   "eqNumInitial": 1,
   "hotkeys": {
    "equation": "Ctrl-E",
    "itemize": "Ctrl-I"
   },
   "labels_anchors": false,
   "latex_user_defs": false,
   "report_style_numbering": false,
   "user_envs_cfg": false
  }
 },
 "nbformat": 4,
 "nbformat_minor": 2
}

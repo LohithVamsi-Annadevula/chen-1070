{
  "cells": [
    {
      "metadata": {},
      "cell_type": "markdown",
      "source": "ChEn-1070: Introduction to Chemical Engineering Spring 2019 UMass Lowell; Profs. Manohar and de Almeida **19Jan2019**\n\n# 01. Introduction to Jupyter Notebooks and Python"
    },
    {
      "metadata": {},
      "cell_type": "markdown",
      "source": "---\n\n## Table of Contents\n* [Inspiration](#nasa)\n* [What is a Jupyter Notebook?](#whatisit)\n* [Access to a JNotebook server](#access)\n* [Jupyter Notebook cell](#jnbcell)\n    + [Markdown text](#markdown)\n    + [Execute Python code](#execute)\n    + [Inspect Python variables](#variables)\n* [Additional help](#umllinux)\n---"
    },
    {
      "metadata": {},
      "cell_type": "markdown",
      "source": "## Inspiration<a id=\"nasa\"></a>\n*Lines of python code*:\n - [We are NASA (\"men in the moon\")](https://www.youtube.com/watch?v=WeA7edXsU40&app=desktop) "
    },
    {
      "metadata": {},
      "cell_type": "markdown",
      "source": "## What is a Jupyter Notebook?<a id=\"whatisit\"></a>\nA web application for presenting code, results, and discussion (analysis) all in one place. There are many sources to learn additional information from, such as:\n 1. [Visit the website](http://jupyter.org/) \n 1. [Read the basic documentation](https://jupyter-notebook.readthedocs.io/en/stable/index.html)\n 1. [Try examples first](https://jupyter-notebook.readthedocs.io/en/stable/examples/Notebook/examples_index.html)\n 1. [Recent Journal Article](https://www.nature.com/articles/d41586-018-07196-1)"
    },
    {
      "metadata": {},
      "cell_type": "markdown",
      "source": "## Access to a Jupyter Notebook<a id=\"access\"></a>\n 1. Use the web-based cloud service [Azure](https://notebooks.azure.com/). Login with your student UMass Lowell student credential and start a Jupyter Notebook. This is a **free** Microsoft cloud service.\n 2. Access [this repository](https://github.com/dpploy/chen-1070) and use its Binder deployment of a Jupyter Notebook server.\n 3. Install [Anaconda](https://docs.anaconda.com/anaconda/install/#) (free download) and use (Mac OS X and Windows) the Python 3 tarball. After install, use [Anaconda-Navigator](https://docs.anaconda.com/anaconda/navigator/) to start a Jupyter Notebook server."
    },
    {
      "metadata": {},
      "cell_type": "markdown",
      "source": "\n ## Jupyter Notebook cell: the basic concept<a id=\"jnbcell\"></a>\n\n### Writing your document (`this cell`)<a id=\"markdown\"></a>\nHave you seen this formula before?    \n\\begin{equation}\nk = k_0 \\, e^{-\\frac{E_a}{RT}}.\n\\end{equation}    \nHow about typesetting formula in text: $\\ln k = \\ln k_0 - \\frac{E_a}{RT}$? How was this done?\n\nAll of this text was written in Jupyter Markdown markup language and rendered via executing **this cell**. If you double click on this cell, you will see the Markdown source file. Then execute `Run` on the cell to render it again.\n\n### Markdown links\n[Jupyter Markdown markup language](https://jupyter-notebook.readthedocs.io/en/stable/examples/Notebook/Working%20With%20Markdown%20Cells.html).\n\n[More on Jupyter Markdown markup language](https://sourceforge.net/p/jupiter/wiki/markdown_syntax/).\n\n[Additional on Jupyter Markdown markup language](http://assemble.io/docs/Cheatsheet-Markdown.html).\n\n[Useful extensions and colored boxes](https://www.ibm.com/support/knowledgecenter/en/SSQNUZ_1.1.0/dsx/markd-jupyter.html)\n\n[Markdown project (see markdown render tool)](https://daringfireball.net/projects/markdown/)\n\nNB: you can export the notebook to different formats (Menu Bar: file -> Download as ->).\n\n### Markdown your code (*fenced code block with language highlighting*; double click here)\n\nHere is a plotting example from the [Matplotlib site](https://matplotlib.org/index.html):\n ```python\n import matplotlib.pyplot as plt  # this is an import of the package\n plt.plot([1,2,3,4])\n plt.ylabel('some numbers')\n plt.show()\n ```\nthis Python code will be executed in the next cell, the last line of source code will display the x-y plot."
    },
    {
      "metadata": {},
      "cell_type": "markdown",
      "source": "### Execute your Python code<a id=\"execute\"></a>"
    },
    {
      "metadata": {
        "trusted": true
      },
      "cell_type": "code",
      "source": "import matplotlib.pyplot as plt\nplt.plot([1,2,3,4])\nplt.ylabel('some numbers')\nplt.show()",
      "execution_count": null,
      "outputs": []
    },
    {
      "metadata": {},
      "cell_type": "markdown",
      "source": "Let's use another code plotting script:\n```python\nimport numpy as np\nimport matplotlib.pyplot as plt\n\ndef f(t):\n    return np.exp(-t) * np.cos(2*np.pi*t)\n\nt1 = np.arange(0.0, 5.0, 0.1)\nt2 = np.arange(0.0, 5.0, 0.02)\n\nplt.figure(1)\nplt.subplot(211)\nplt.plot(t1, f(t1), 'bo', t2, f(t2), 'k')\n\nplt.subplot(212)\nplt.plot(t2, np.cos(2*np.pi*t2), 'r--')\nplt.show()\n```\nand execute the next cell to obtain the plot below."
    },
    {
      "metadata": {
        "trusted": true
      },
      "cell_type": "code",
      "source": "'''\nThis is an example of two stacked plots using\nthe subplot() method of the pyplot package.\n'''\nimport numpy as np               # import the numpy package for arrays computation\nimport matplotlib.pyplot as plt  # import the matplotlib package for plotting\n\ndef f(t):\n    '''\n    Define a decaying cosine function\n    '''\n    return np.exp(-t) * np.cos(2*np.pi*t)\n\nt1 = np.arange(0.0, 5.0, 0.1)\nt2 = np.arange(0.0, 5.0, 0.02)\n\nplt.figure(1)\nplt.subplot(211)\nplt.plot(t1, f(t1), 'bo', t2, f(t2), 'k')\n\nplt.subplot(212)\nplt.plot(t2, np.cos(2*np.pi*t2), 'r--')\nplt.show()",
      "execution_count": null,
      "outputs": []
    },
    {
      "metadata": {},
      "cell_type": "markdown",
      "source": "### Inspecting Python variables<a id=\"variables\"></a>\n#### `t1` is a [NumPy](http://www.numpy.org/) `ndarray` (n-dimensional array)"
    },
    {
      "metadata": {
        "trusted": true
      },
      "cell_type": "code",
      "source": "print(type(t1))\nprint('t1 = ',t1)",
      "execution_count": null,
      "outputs": []
    },
    {
      "metadata": {},
      "cell_type": "markdown",
      "source": "#### Use the help() command on the `f` function to access its _docstring_"
    },
    {
      "metadata": {
        "trusted": true
      },
      "cell_type": "code",
      "source": "help(f)",
      "execution_count": null,
      "outputs": []
    },
    {
      "metadata": {},
      "cell_type": "markdown",
      "source": "#### What does this `plt.subplot(211)` mean? Use help to access documentation if any:"
    },
    {
      "metadata": {
        "trusted": true
      },
      "cell_type": "code",
      "source": "help(plt.subplot)",
      "execution_count": null,
      "outputs": []
    },
    {
      "metadata": {},
      "cell_type": "markdown",
      "source": "## _Commercial:_...\n## Interested in Python development? Join us at [Cortix](https://cortix.org) for collaboratory coding.\n\n![](images/cortix-cover.png)\n\n## Pinanski Hall 301, Wednesdays, 4:30pm, UML Linux Group; joing the [google group](https://groups.google.com/forum/#!forum/uml-linux).<a id=\"umllinux\"></a>\n"
    },
    {
      "metadata": {
        "trusted": true
      },
      "cell_type": "code",
      "source": "",
      "execution_count": null,
      "outputs": []
    }
  ],
  "metadata": {
    "kernelspec": {
      "name": "python3",
      "display_name": "Python 3",
      "language": "python"
    },
    "language_info": {
      "mimetype": "text/x-python",
      "nbconvert_exporter": "python",
      "name": "python",
      "pygments_lexer": "ipython3",
      "version": "3.5.4",
      "file_extension": ".py",
      "codemirror_mode": {
        "version": 3,
        "name": "ipython"
      }
    },
    "latex_envs": {
      "LaTeX_envs_menu_present": true,
      "autoclose": false,
      "autocomplete": true,
      "bibliofile": "biblio.bib",
      "cite_by": "apalike",
      "current_citInitial": 1,
      "eqLabelWithNumbers": true,
      "eqNumInitial": 1,
      "hotkeys": {
        "equation": "Ctrl-E",
        "itemize": "Ctrl-I"
      },
      "labels_anchors": false,
      "latex_user_defs": false,
      "report_style_numbering": false,
      "user_envs_cfg": false
    }
  },
  "nbformat": 4,
  "nbformat_minor": 2
}